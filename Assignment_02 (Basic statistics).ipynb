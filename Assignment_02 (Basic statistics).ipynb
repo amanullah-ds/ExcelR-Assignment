{
 "cells": [
  {
   "cell_type": "code",
   "execution_count": null,
   "id": "14f752d7-0735-47de-bb2b-470ec2b18689",
   "metadata": {},
   "outputs": [],
   "source": [
    "\"\"\"\n",
    "Data\n",
    "A total of 15 print-heads were randomly selected and tested until failure. The durability of each print-head (in millions of characters) was recorded as follows:\n",
    "1.13, 1.55, 1.43, 0.92, 1.25, 1.36, 1.32, 0.85, 1.07, 1.48, 1.20, 1.33, 1.18, 1.22, 1.29\n",
    "Assignment Tasks\n",
    "a. Build 99% Confidence Interval Using Sample Standard Deviation\n",
    "Assuming the sample is representative of the population, construct a 99% confidence interval for the mean number of characters printed before the print-head fails using the sample standard deviation. Explain the steps you take and the rationale behind using the t-distribution for this task.\n",
    "b. Build 99% Confidence Interval Using Known Population Standard Deviation\n",
    "If it were known that the population standard deviation is 0.2 million characters, construct a 99% confidence interval for the mean number of characters printed before failure.\n",
    "\n",
    "\"\"\"\n",
    "\n"
   ]
  },
  {
   "cell_type": "code",
   "execution_count": 2,
   "id": "ad93781e-b1cd-4a1f-8a22-3b756c9c8f6b",
   "metadata": {},
   "outputs": [],
   "source": [
    "import numpy as np\n",
    "import scipy.stats as stats"
   ]
  },
  {
   "cell_type": "code",
   "execution_count": 3,
   "id": "7eba4ee4-e14a-4502-af4a-4cd60d4f2ac6",
   "metadata": {},
   "outputs": [
    {
     "name": "stdout",
     "output_type": "stream",
     "text": [
      "Sample Mean: 1.239\n",
      "Sample Std Dev: 0.193\n"
     ]
    }
   ],
   "source": [
    "# Given data\n",
    "data = np.array([1.13, 1.55, 1.43, 0.92, 1.25, 1.36, 1.32, 0.85, 1.07, 1.48,\n",
    "                 1.20, 1.33, 1.18, 1.22, 1.29])\n",
    "\n",
    "#sample statistics\n",
    "n = len(data)\n",
    "mean = np.mean(data)\n",
    "s = np.std(data, ddof=1)  \n",
    "\n",
    "print(\"Sample Mean:\", round(mean, 3))\n",
    "print(\"Sample Std Dev:\", round(s, 3))\n"
   ]
  },
  {
   "cell_type": "code",
   "execution_count": 13,
   "id": "c26322bf-6247-47b8-8720-613d5496ba4e",
   "metadata": {},
   "outputs": [],
   "source": [
    "# a. 99% Confidence Interval using t-distribution"
   ]
  },
  {
   "cell_type": "code",
   "execution_count": 14,
   "id": "071b322b-13e3-442b-b9d1-dbc03ad9ada4",
   "metadata": {},
   "outputs": [
    {
     "name": "stdout",
     "output_type": "stream",
     "text": [
      "99% Confidence Interval using t-distribution:\n",
      "t-critical value: 2.98\n",
      "Confidence Interval: (1.09, 1.39)\n"
     ]
    }
   ],
   "source": [
    "confidence = 0.99\n",
    "alpha = 1 - confidence\n",
    "df = n - 1\n",
    "t_critical = stats.t.ppf(1 - alpha/2, df)\n",
    "\n",
    "margin_error_t = t_critical * (s / np.sqrt(n))\n",
    "ci_lower_t = mean - margin_error_t\n",
    "ci_upper_t = mean + margin_error_t\n",
    "\n",
    "print(\"99% Confidence Interval using t-distribution:\")\n",
    "print(f\"t-critical value: {t_critical:.2f}\")\n",
    "print(f\"Confidence Interval: ({ci_lower_t:.2f}, {ci_upper_t:.2f})\")"
   ]
  },
  {
   "cell_type": "code",
   "execution_count": 15,
   "id": "14931d45-46cc-4cec-811c-85cbbcf494b2",
   "metadata": {},
   "outputs": [],
   "source": [
    "# b. 99% Confidence Interval using z-distribution"
   ]
  },
  {
   "cell_type": "code",
   "execution_count": 16,
   "id": "abda4659-1eef-48a2-b526-d36c476c085e",
   "metadata": {},
   "outputs": [
    {
     "name": "stdout",
     "output_type": "stream",
     "text": [
      "99% Confidence Interval using z-distribution:\n",
      "z-critical value: 2.58\n",
      "Confidence Interval: (1.11, 1.37)\n"
     ]
    }
   ],
   "source": [
    "sigma = 0.2  # population std deviation\n",
    "z_critical = stats.norm.ppf(1 - alpha/2)\n",
    "\n",
    "margin_error_z = z_critical * (sigma / np.sqrt(n))\n",
    "ci_lower_z = mean - margin_error_z\n",
    "ci_upper_z = mean + margin_error_z\n",
    "\n",
    "print(\"99% Confidence Interval using z-distribution:\")\n",
    "print(f\"z-critical value: {z_critical:.2f}\")\n",
    "print(f\"Confidence Interval: ({ci_lower_z:.2f}, {ci_upper_z:.2f})\")"
   ]
  },
  {
   "cell_type": "code",
   "execution_count": null,
   "id": "746afce2-6483-4d96-b6b0-99d069ee9737",
   "metadata": {},
   "outputs": [],
   "source": []
  }
 ],
 "metadata": {
  "kernelspec": {
   "display_name": "Python 3 (ipykernel)",
   "language": "python",
   "name": "python3"
  },
  "language_info": {
   "codemirror_mode": {
    "name": "ipython",
    "version": 3
   },
   "file_extension": ".py",
   "mimetype": "text/x-python",
   "name": "python",
   "nbconvert_exporter": "python",
   "pygments_lexer": "ipython3",
   "version": "3.13.5"
  }
 },
 "nbformat": 4,
 "nbformat_minor": 5
}
