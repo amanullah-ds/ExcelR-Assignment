{
 "cells": [
  {
   "cell_type": "code",
   "execution_count": null,
   "id": "c0d1aa65-1e29-4912-bfb9-4aad12ccd230",
   "metadata": {},
   "outputs": [],
   "source": [
    "\"\"\"\n",
    "HYPOTHESIS TESTING\n",
    "\n",
    "Assignment Tasks:\n",
    "1. State the Hypotheses statement:\n",
    "2. Calculate the Test Statistic:\n",
    "Use the following formula to calculate the test statistic (t):\n",
    "where:\n",
    "•\tˉxˉ = sample mean weekly cost (Rs. 3,050)\n",
    "•\tμ = theoretical mean weekly cost according to the cost model (W = $1,000 + $5X for X = 600 units)\n",
    "•\tσ = 5*25 units\n",
    "•\tn = sample size (25 restaurants)\n",
    "3. Determine the Critical Value:\n",
    "Using the alpha level of 5% (α = 0.05), determine the critical value from the standard normal (Z) distribution table.\n",
    "4. Make a Decision:\n",
    "Compare the test statistic with the critical value to decide whether to reject the null hypothesis.\n",
    "5. Conclusion:\n",
    "Based on the decision in step 4, conclude whether there is strong evidence to support the restaurant owners' claim that the weekly operating costs are higher than the model suggests.\n",
    "\n",
    "Submission Guidelines:\n",
    "•\tPrepare python file detailing each step of your hypothesis testing process.\n",
    "•\tInclude calculations for the test statistic and the critical value.\n",
    "•\tProvide a clear conclusion based on your analysis.\n",
    "\n",
    "\"\"\""
   ]
  },
  {
   "cell_type": "code",
   "execution_count": null,
   "id": "95545982-2d33-48cc-94a3-a8d69bc17824",
   "metadata": {},
   "outputs": [],
   "source": [
    "1. Hypotheses Statement\n",
    "\n",
    "We are testing whether the actual weekly operating cost is higher than predicted by the model.\n",
    "\n",
    "𝐻0: meu=4000(Theoretical weekly cost is accurate)\n",
    "\n",
    "𝐻1:meu>4000(Actual weekly cost is higher than model prediction)\n"
   ]
  },
  {
   "cell_type": "code",
   "execution_count": null,
   "id": "614d3259-e220-4ead-8928-72fe5ca57f07",
   "metadata": {},
   "outputs": [],
   "source": [
    "2. Calculate the Test Statistic\n",
    "\n",
    "    Given data-\n",
    "        \n",
    "    x_bar = sample mean weekly cost (Rs. 3,050)\n",
    "\tμ = theoretical mean weekly cost according to the cost model (W = $1,000 + $5X for X = 600 units)\n",
    "\tσ = 5*25 units\n",
    "\tn = sample size (25 restaurants)\n",
    "\n",
    "    \n",
    "   Formula for test statistic:\n",
    "\n",
    "      t = (x_bar - mu) / (sigma / sqrt(n))\n",
    "\n",
    "   After putting the values and calculating t\n",
    "\n",
    "      t= -38\n",
    "  \n"
   ]
  },
  {
   "cell_type": "code",
   "execution_count": null,
   "id": "2f3123f6-773e-4a5e-88c4-48c980ecd679",
   "metadata": {},
   "outputs": [],
   "source": [
    "3. Determine the Critical Value:\n",
    "\n",
    "    alpha = 0.05\n",
    "    z_critical = 1.645"
   ]
  },
  {
   "cell_type": "code",
   "execution_count": null,
   "id": "39768776-1646-4f38-84ef-9ce98efbeee1",
   "metadata": {},
   "outputs": [],
   "source": [
    "4. Decision Rule_\n",
    "\n",
    "If 𝑡 > 1.645, reject 𝐻0\n",
    "Here, 𝑡 = −38 < 1.645, so we fail to reject H0\n",
    "\n",
    "Conclusion: There is no evidence to support the claim that the weekly operating cost is higher than the model suggests.\n"
   ]
  },
  {
   "cell_type": "code",
   "execution_count": null,
   "id": "8ae5e3ee-c781-4ac7-8405-2af5b218ff1e",
   "metadata": {},
   "outputs": [],
   "source": [
    "#Python file"
   ]
  },
  {
   "cell_type": "code",
   "execution_count": 5,
   "id": "f9c73b98-7ec9-413b-9fe3-9f90a7853dc7",
   "metadata": {},
   "outputs": [],
   "source": [
    "import math\n",
    "from scipy.stats import norm\n",
    "\n",
    "# Given data\n",
    "sample_mean = 3050       \n",
    "x_units = 600           \n",
    "theoretical_mean = 1000 + 5 * x_units  \n",
    "sigma = 5 * 25           \n",
    "n = 25                 \n",
    "alpha = 0.05"
   ]
  },
  {
   "cell_type": "code",
   "execution_count": 3,
   "id": "0ed2713f-e94e-4fe6-91a2-3de2d600bf28",
   "metadata": {},
   "outputs": [
    {
     "name": "stdout",
     "output_type": "stream",
     "text": [
      "H0: μ = 4000 (Theoretical model is accurate)\n",
      "H1: μ > 4000 (Actual cost is higher)\n"
     ]
    }
   ],
   "source": [
    "# Step 1: Hypotheses\n",
    "print(\"H0: μ = 4000 (Theoretical model is accurate)\")\n",
    "print(\"H1: μ > 4000 (Actual cost is higher)\")"
   ]
  },
  {
   "cell_type": "code",
   "execution_count": 14,
   "id": "c905cd12-e724-4fc3-9f3e-9f35e593aa67",
   "metadata": {},
   "outputs": [
    {
     "data": {
      "text/plain": [
       "-38.0"
      ]
     },
     "execution_count": 14,
     "metadata": {},
     "output_type": "execute_result"
    }
   ],
   "source": [
    "# Step 2: Calculate test statistic\n",
    "t_statistic = (sample_mean - theoretical_mean) / (sigma / math.sqrt(n))\n",
    "t_statistic "
   ]
  },
  {
   "cell_type": "code",
   "execution_count": 15,
   "id": "2913849f-d823-4952-b55a-72d1f882d244",
   "metadata": {},
   "outputs": [
    {
     "data": {
      "text/plain": [
       "np.float64(1.6448536269514722)"
      ]
     },
     "execution_count": 15,
     "metadata": {},
     "output_type": "execute_result"
    }
   ],
   "source": [
    "# Step 3: Determine critical value (right-tailed test)\n",
    "critical_value = norm.ppf(1 - alpha)\n",
    "critical_value"
   ]
  },
  {
   "cell_type": "code",
   "execution_count": 16,
   "id": "2c0e9dbe-e82d-4a40-b4be-4e829e966b63",
   "metadata": {},
   "outputs": [
    {
     "name": "stdout",
     "output_type": "stream",
     "text": [
      " Fail to Reject H0\n"
     ]
    }
   ],
   "source": [
    "# Step 4: Decision\n",
    "if t_statistic > critical_value:\n",
    "    print(\"Reject H0\")\n",
    "else:\n",
    "    print(\" Fail to Reject H0\")"
   ]
  },
  {
   "cell_type": "code",
   "execution_count": 17,
   "id": "1c3ba1db-1d9f-4eee-b232-2d07f44d99fa",
   "metadata": {},
   "outputs": [
    {
     "name": "stdout",
     "output_type": "stream",
     "text": [
      "Conclusion: There is no evidence to support that weekly operating costs are higher.\n"
     ]
    }
   ],
   "source": [
    "# Step 5: Conclusion\n",
    "if t_statistic > critical_value:\n",
    "    print(\"Conclusion: There is strong evidence that weekly operating costs are higher than the model suggests.\")\n",
    "else:\n",
    "    print(\"Conclusion: There is no evidence to support that weekly operating costs are higher.\")\n"
   ]
  },
  {
   "cell_type": "code",
   "execution_count": null,
   "id": "01b4b251-5dcb-4468-905f-e55e547348f3",
   "metadata": {},
   "outputs": [],
   "source": [
    "#CHI SQUARE TEST\n",
    "\n",
    "Given Table-\n",
    "\n",
    "| Satisfaction     | Smart Thermostat | Smart Light | Total   |\n",
    "| ---------------- | ---------------- | ----------- | ------- |\n",
    "| Very Satisfied   | 50               | 70          | 120     |\n",
    "| Satisfied        | 80               | 100         | 180     |\n",
    "| Neutral          | 60               | 90          | 150     |\n",
    "| Unsatisfied      | 30               | 50          | 80      |\n",
    "| Very Unsatisfied | 20               | 50          | 70      |\n",
    "| Total            | 240              | 360         | 600     |\n"
   ]
  },
  {
   "cell_type": "code",
   "execution_count": null,
   "id": "44c90678-152b-4b56-b0f8-6568379c6b03",
   "metadata": {},
   "outputs": [],
   "source": [
    "Step 1: State the Hypotheses\n",
    "\n",
    "Null Hypothesis (H₀): There is no significant association between device type and customer satisfaction.\n",
    "\n",
    "Alternative Hypothesis (H₁): There is a significant association between device type and customer satisfaction."
   ]
  },
  {
   "cell_type": "code",
   "execution_count": null,
   "id": "7de546cc-7d98-401c-ad2d-76fcf1ff7553",
   "metadata": {},
   "outputs": [],
   "source": [
    "Step 3: Expected frequencies (E)\n",
    "\n",
    "𝐸𝑖𝑗 = (Row Total) × (Column Total)\n",
    "\n",
    "Grand Total Eij=(Row Total)×(Column Total)\n",
    "\n",
    "For example:\n",
    "Expected value for Very Satisfied - Smart Thermostat\n",
    "\n",
    "E=(120*240)/600 =48"
   ]
  },
  {
   "cell_type": "code",
   "execution_count": null,
   "id": "9a823b19-6d3c-4394-81b2-f3fa85277ca3",
   "metadata": {},
   "outputs": [],
   "source": [
    "Now compute for all cells:\n",
    "\n",
    "| Satisfaction     | Smart Thermostat (E) | Smart Light (E) |\n",
    "| ---------------- | -------------------- | --------------- |\n",
    "| Very Satisfied   | 48                   | 72              |\n",
    "| Satisfied        | 72                   | 108             |\n",
    "| Neutral          | 60                   | 90              |\n",
    "| Unsatisfied      | 32                   | 48              |\n",
    "| Very Unsatisfied | 28                   | 42              |\n"
   ]
  },
  {
   "cell_type": "code",
   "execution_count": null,
   "id": "8f793867-c854-4eb0-862b-db58ab3e8d92",
   "metadata": {},
   "outputs": [],
   "source": [
    "Step 4: Compute the Chi-Square Statistic\n",
    "\n",
    "Chi-square (X^2) = Σ ((O - E)^2 / E)\n",
    "\n",
    "Now, calculate for each cell:-\n",
    "\n",
    "| Satisfaction     | O (Thermostat) | E  | (O–E)²/E | O (Light) | E   | (O–E)²/E |\n",
    "| ---------------- | -------------- | -- | -------- | --------- | --- | -------- |\n",
    "| Very Satisfied   | 50             | 48 | 0.083    | 70        | 72  | 0.056    |\n",
    "| Satisfied        | 80             | 72 | 0.889    | 100       | 108 | 0.593    |\n",
    "| Neutral          | 60             | 60 | 0.000    | 90        | 90  | 0.000    |\n",
    "| Unsatisfied      | 30             | 32 | 0.125    | 50        | 48  | 0.083    |\n",
    "| Very Unsatisfied | 20             | 28 | 2.286    | 50        | 42  | 1.524    |\n"
   ]
  },
  {
   "cell_type": "code",
   "execution_count": null,
   "id": "7f835595-956f-4a15-8144-7f0e1267a41a",
   "metadata": {},
   "outputs": [],
   "source": [
    "Total χ² = 0.083 + 0.056 + 0.889 + 0.593 + 0 + 0 + 0.125 + 0.083 + 2.286 + 1.524 = 5.639"
   ]
  },
  {
   "cell_type": "code",
   "execution_count": null,
   "id": "c35cadd4-6163-4884-a050-e651d4b75990",
   "metadata": {},
   "outputs": [],
   "source": [
    "tep 5: Degrees of Freedom\n",
    "\n",
    "df=(r−1)(c−1)=(5−1)(2−1)=4"
   ]
  },
  {
   "cell_type": "code",
   "execution_count": null,
   "id": "5ffd0e85-21d0-4039-854b-b9cdd42e8530",
   "metadata": {},
   "outputs": [],
   "source": [
    "Step 6: Critical Value & Decision\n",
    "\n",
    "At significance level alpha = 0.05,\n",
    "from chi-square table:\n",
    "   df=4\n",
    "   alpha=0.5\n",
    "   so, chi-square = 9.488"
   ]
  },
  {
   "cell_type": "code",
   "execution_count": null,
   "id": "c8d4296c-36d9-41f7-b70a-328bb0345d1b",
   "metadata": {},
   "outputs": [],
   "source": [
    "since, 5.639 < 9.488\n",
    " so, fail to reject H0"
   ]
  },
  {
   "cell_type": "code",
   "execution_count": null,
   "id": "444a971f-e3bd-4b9e-8d0d-631a1e417e27",
   "metadata": {},
   "outputs": [],
   "source": [
    "Step 7: Conclusion\n",
    "\n",
    "There is no significant relationship between customer satisfaction and product type.\n",
    "That means — the satisfaction levels for Smart Thermostat and Smart Light are statistically similar."
   ]
  },
  {
   "cell_type": "code",
   "execution_count": null,
   "id": "ec6dc105-e608-4d33-8380-9ae83e875ac5",
   "metadata": {},
   "outputs": [],
   "source": [
    "#Python code for the chi-square test"
   ]
  },
  {
   "cell_type": "code",
   "execution_count": 2,
   "id": "372851f5-71be-424e-aa4f-bfba45b8f1f8",
   "metadata": {},
   "outputs": [],
   "source": [
    "import numpy as np\n",
    "from scipy.stats import chi2_contingency"
   ]
  },
  {
   "cell_type": "code",
   "execution_count": 3,
   "id": "5b05c1b9-93e0-450a-8e7b-c548e7fdce7f",
   "metadata": {},
   "outputs": [],
   "source": [
    "observed = np.array([\n",
    "    [50, 70],   # Very Satisfied\n",
    "    [80, 100],  # Satisfied\n",
    "    [60, 90],   # Neutral\n",
    "    [30, 50],   # Unsatisfied\n",
    "    [20, 50]    # Very Unsatisfied\n",
    "])"
   ]
  },
  {
   "cell_type": "code",
   "execution_count": 4,
   "id": "b6d6e46c-dd93-47f2-9e5f-500296e1a352",
   "metadata": {},
   "outputs": [],
   "source": [
    "# Perform Chi-Square Test\n",
    "chi2, p, dof, expected = chi2_contingency(observed)"
   ]
  },
  {
   "cell_type": "code",
   "execution_count": 5,
   "id": "11531e59-88a3-4943-99ad-59271a9a80f6",
   "metadata": {},
   "outputs": [
    {
     "name": "stdout",
     "output_type": "stream",
     "text": [
      "Chi-Square Statistic: 5.638227513227513\n",
      "Degrees of Freedom: 4\n",
      "P-value: 0.22784371130697179\n",
      "\n",
      "Expected Frequencies:\n",
      "[[ 48.  72.]\n",
      " [ 72. 108.]\n",
      " [ 60.  90.]\n",
      " [ 32.  48.]\n",
      " [ 28.  42.]]\n"
     ]
    }
   ],
   "source": [
    "# Display results\n",
    "\n",
    "print(\"Chi-Square Statistic:\", chi2)\n",
    "print(\"Degrees of Freedom:\", dof)\n",
    "print(\"P-value:\", p)\n",
    "print(\"\\nExpected Frequencies:\")\n",
    "print(expected)"
   ]
  },
  {
   "cell_type": "code",
   "execution_count": 8,
   "id": "8a814370-71a3-40c8-bb32-55d317c8d4a2",
   "metadata": {},
   "outputs": [
    {
     "name": "stdout",
     "output_type": "stream",
     "text": [
      "\n",
      "Conclusion: Fail to reject H0 (No significant relationship between satisfaction and product type).\n"
     ]
    }
   ],
   "source": [
    "#Decision at 0.05 significance level\n",
    "alpha = 0.05\n",
    "if p > alpha:\n",
    "    print(\"\\nConclusion: Fail to reject H0 (No significant relationship between satisfaction and product type).\")\n",
    "else:\n",
    "    print(\"\\nConclusion: Reject H0 (There is a significant relationship between satisfaction and product type).\")\n"
   ]
  }
 ],
 "metadata": {
  "kernelspec": {
   "display_name": "Python 3 (ipykernel)",
   "language": "python",
   "name": "python3"
  },
  "language_info": {
   "codemirror_mode": {
    "name": "ipython",
    "version": 3
   },
   "file_extension": ".py",
   "mimetype": "text/x-python",
   "name": "python",
   "nbconvert_exporter": "python",
   "pygments_lexer": "ipython3",
   "version": "3.13.5"
  }
 },
 "nbformat": 4,
 "nbformat_minor": 5
}
